{
  "nbformat": 4,
  "nbformat_minor": 0,
  "metadata": {
    "colab": {
      "provenance": [],
      "mount_file_id": "1bI2ahY5CqcQB4VhIUluvqN8oq6UiLqd_",
      "authorship_tag": "ABX9TyORxm3QR3nZl4AzFZS/naZ/",
      "include_colab_link": true
    },
    "kernelspec": {
      "name": "python3",
      "display_name": "Python 3"
    },
    "language_info": {
      "name": "python"
    }
  },
  "cells": [
    {
      "cell_type": "markdown",
      "metadata": {
        "id": "view-in-github",
        "colab_type": "text"
      },
      "source": [
        "<a href=\"https://colab.research.google.com/github/esrasucu/xml-depo/blob/main/ac%C4%B1kegitimkaynaklar%C4%B1.ipynb\" target=\"_parent\"><img src=\"https://colab.research.google.com/assets/colab-badge.svg\" alt=\"Open In Colab\"/></a>"
      ]
    },
    {
      "cell_type": "code",
      "source": [
        "import xml.etree.ElementTree as ET\n",
        "\n",
        "def aek_kaydet(baslik, anahtarKelimeler, ozetBilgi, olusturan, lisans, dil, kaynakURL):\n",
        "    try:\n",
        "       tree = ET.parse('/content/veri.xml')\n",
        "       root = tree.getroot()\n",
        "    except FileNotFoundError:\n",
        "        root = ET.Element('aekler')\n",
        "        tree = ET.ElementTree(root)\n",
        "\n",
        "  # Yeni AEK verilerini ekle\n",
        "    aek = ET.SubElement(root, 'aek')\n",
        "    ET.SubElement(aek, 'baslik').text = baslik\n",
        "    ET.SubElement(aek, 'anahtarKelimeler').text = anahtarKelimeler\n",
        "    ET.SubElement(aek, 'ozetBilgi').text = ozetBilgi\n",
        "    ET.SubElement(aek, 'olusturan').text = olusturan\n",
        "    ET.SubElement(aek, 'lisans').text = lisans\n",
        "    ET.SubElement(aek, 'dil').text = dil\n",
        "    ET.SubElement(aek, 'kaynakURL').text = kaynakURL\n",
        "\n",
        "    # XML dosyasını güncelle\n",
        "    tree.write('/content/veri.xml')"
      ],
      "metadata": {
        "id": "DyKQh09Ki64q"
      },
      "execution_count": null,
      "outputs": []
    }
  ]
}